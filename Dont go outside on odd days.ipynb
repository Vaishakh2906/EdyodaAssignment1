{
 "cells": [
  {
   "cell_type": "code",
   "execution_count": 1,
   "source": [
    "a=[1,2,3,4,5,6,7,8,9]"
   ],
   "outputs": [],
   "metadata": {}
  },
  {
   "cell_type": "code",
   "execution_count": 2,
   "source": [
    "print(a)"
   ],
   "outputs": [
    {
     "output_type": "stream",
     "name": "stdout",
     "text": [
      "[1, 2, 3, 4, 5, 6, 7, 8, 9]\n"
     ]
    }
   ],
   "metadata": {}
  },
  {
   "cell_type": "code",
   "execution_count": 20,
   "source": [
    "a=(1,2,3,4,5,6,7,8,9)\r\n",
    "b=0\r\n",
    "c=0\r\n",
    "for i in a:\r\n",
    "    if (i%2==0):\r\n",
    "        b=b+1\r\n",
    "    else:\r\n",
    "        c=c+1\r\n",
    "print(a)\r\n",
    "print(\"Even Numbers=\",b)\r\n",
    "print(\"Odd Numbers=\",c)"
   ],
   "outputs": [
    {
     "output_type": "stream",
     "name": "stdout",
     "text": [
      "(1, 2, 3, 4, 5, 6, 7, 8, 9)\n",
      "Even Numbers= 4\n",
      "Odd Numbers= 5\n"
     ]
    }
   ],
   "metadata": {}
  },
  {
   "cell_type": "code",
   "execution_count": null,
   "source": [],
   "outputs": [],
   "metadata": {}
  }
 ],
 "metadata": {
  "orig_nbformat": 4,
  "language_info": {
   "name": "python",
   "version": "3.8.1",
   "mimetype": "text/x-python",
   "codemirror_mode": {
    "name": "ipython",
    "version": 3
   },
   "pygments_lexer": "ipython3",
   "nbconvert_exporter": "python",
   "file_extension": ".py"
  },
  "kernelspec": {
   "name": "python3",
   "display_name": "Python 3.8.1 64-bit"
  },
  "interpreter": {
   "hash": "29e6d1060ede53ce783d69865c8c2e474108ab7d7dd3da07cff74dca89764789"
  }
 },
 "nbformat": 4,
 "nbformat_minor": 2
}