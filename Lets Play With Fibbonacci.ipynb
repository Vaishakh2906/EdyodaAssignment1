{
 "cells": [
  {
   "cell_type": "code",
   "execution_count": 2,
   "source": [
    "x,y=0,1\r\n",
    "\r\n",
    "while(y<50):\r\n",
    "    print(y,end=\"\\t\")\r\n",
    "    x,y=y,x+y"
   ],
   "outputs": [
    {
     "output_type": "stream",
     "name": "stdout",
     "text": [
      "1\t1\t2\t3\t5\t8\t13\t21\t34\t"
     ]
    }
   ],
   "metadata": {}
  },
  {
   "cell_type": "code",
   "execution_count": null,
   "source": [],
   "outputs": [],
   "metadata": {}
  }
 ],
 "metadata": {
  "orig_nbformat": 4,
  "language_info": {
   "name": "python",
   "version": "3.8.8",
   "mimetype": "text/x-python",
   "codemirror_mode": {
    "name": "ipython",
    "version": 3
   },
   "pygments_lexer": "ipython3",
   "nbconvert_exporter": "python",
   "file_extension": ".py"
  },
  "kernelspec": {
   "name": "python3",
   "display_name": "Python 3.8.8 64-bit ('base': conda)"
  },
  "interpreter": {
   "hash": "d403c2ad4ed2feb4d5dd7eb9581b2a5b93711ae52db1101ff3a0f921e12c21ef"
  }
 },
 "nbformat": 4,
 "nbformat_minor": 2
}